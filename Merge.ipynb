{
 "cells": [
  {
   "cell_type": "code",
   "execution_count": 1,
   "id": "75399bee-8132-4cdd-b2c6-ad1796d9f19c",
   "metadata": {},
   "outputs": [],
   "source": [
    "import os\n",
    "import pandas as pd"
   ]
  },
  {
   "cell_type": "code",
   "execution_count": 2,
   "id": "fe3e7904-ca2f-4d77-bb41-0c0b9535078c",
   "metadata": {},
   "outputs": [],
   "source": [
    "\n",
    "def merge_csv_files(input_dir, output_file):\n",
    "    csv_files = [file for file in os.listdir(input_dir) if file.endswith('.csv')]\n",
    "\n",
    "    merged_data = []\n",
    "\n",
    "    for file in csv_files:\n",
    "        file_path = os.path.join(input_dir, file)\n",
    "        temp_df = pd.read_csv(file_path)\n",
    "        temp_df.insert(0, 'filename', file)\n",
    "        merged_data.append(temp_df)\n",
    "\n",
    "    combined_df = pd.concat(merged_data, axis=0, ignore_index=True)\n",
    "    combined_df.to_csv(output_file, index=False)\n",
    "\n",
    "# Uso de la función\n",
    "input_dir = \"mergeInput\"  # Reemplaza esto con la ruta de tu directorio que contiene los archivos CSV\n",
    "output_file = \"archivo_combinado.csv\"  # Reemplaza esto con la ruta y el nombre del archivo CSV de salida\n",
    "\n",
    "merge_csv_files(input_dir, output_file)"
   ]
  },
  {
   "cell_type": "code",
   "execution_count": null,
   "id": "8c78d22e-2f8a-4227-aa2c-87e454e9b10a",
   "metadata": {},
   "outputs": [],
   "source": []
  }
 ],
 "metadata": {
  "kernelspec": {
   "display_name": "Python 3 (ipykernel)",
   "language": "python",
   "name": "python3"
  },
  "language_info": {
   "codemirror_mode": {
    "name": "ipython",
    "version": 3
   },
   "file_extension": ".py",
   "mimetype": "text/x-python",
   "name": "python",
   "nbconvert_exporter": "python",
   "pygments_lexer": "ipython3",
   "version": "3.9.13"
  }
 },
 "nbformat": 4,
 "nbformat_minor": 5
}
