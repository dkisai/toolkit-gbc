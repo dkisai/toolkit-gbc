{
 "cells": [
  {
   "cell_type": "markdown",
   "id": "67c24a60-39ae-4f27-969f-2645be9fd6a9",
   "metadata": {
    "tags": []
   },
   "source": [
    "# Herramientas para GBC\n",
    "\n",
    "Esto es una pequeña caja de herramientas para algunas funciones de GBConeccted"
   ]
  },
  {
   "cell_type": "code",
   "execution_count": null,
   "id": "e640b88e-e8d8-4368-9922-9ef24a4bd1b6",
   "metadata": {},
   "outputs": [],
   "source": [
    "!conda install -y pandas pyyaml sqlalchemy tqdm mysql-connector-python ipywidgets"
   ]
  },
  {
   "cell_type": "markdown",
   "id": "1ce376a6-cae6-4fce-913a-75658a3c0993",
   "metadata": {
    "tags": []
   },
   "source": [
    "## Validar la version del sitio configurador\n",
    "No se necesita ningun parametro y revisara todo"
   ]
  },
  {
   "cell_type": "code",
   "execution_count": null,
   "id": "16bbcbf7-c8a8-4b7d-8399-fe224ad0b6f8",
   "metadata": {},
   "outputs": [],
   "source": [
    "from gbcdk import GbconnectedDk\n",
    "gb = GbconnectedDk()\n",
    "\n",
    "gb.version_check()"
   ]
  },
  {
   "cell_type": "markdown",
   "id": "fc4cd9ae-176b-4ccf-a6b8-da695d490d7b",
   "metadata": {
    "tags": []
   },
   "source": [
    "## Borrar Cache\n",
    "Solo añade la **ip** a la cual se le *eliminara el cache*"
   ]
  },
  {
   "cell_type": "code",
   "execution_count": null,
   "id": "08eacd7c-17ea-4689-bf58-4a118632ccb7",
   "metadata": {},
   "outputs": [],
   "source": [
    "from gbcdk import GbconnectedDk\n",
    "gb = GbconnectedDk()\n",
    "\n",
    "gb.erase_cache('172.29.2.166')"
   ]
  },
  {
   "cell_type": "markdown",
   "id": "5df61005-b3a3-412b-bd4a-16b14f1d6c6b",
   "metadata": {
    "tags": []
   },
   "source": [
    "## Ejecutar un query en la bbdd local\n",
    "\n",
    "Coloca tu query en dentro del los parentesis de la siguiente celda\n",
    "\n",
    "**Ejemplo**\n",
    "```python\n",
    "query = \"\"\"\n",
    "SELECT *\n",
    "FROM x_cat_zonas;\n",
    "\"\"\"\n",
    "```\n",
    "asegurate de tener 3 pares de \" entre tu query\n",
    "\n",
    "El resultado se guardara en el directorio llamado _\"Local\"_"
   ]
  },
  {
   "cell_type": "code",
   "execution_count": null,
   "id": "0a782669-5f93-4cc5-b855-d36de80ebe53",
   "metadata": {},
   "outputs": [],
   "source": [
    "query = \"\"\"\n",
    "select xu.noEmpleado, xu.correo, xu.nombreCompleto, xur.roles, xu.fechaModificacionPassword, xu.fechaUltimoLogin, xu.usuarioModifico FROM gb_prd_control_fabrica.x_usuario xu\n",
    "join x_usuario_roles xur\n",
    "on xu.id = xur.Usuario_id\n",
    "where xu.correo not like '%@xaldigital%'\n",
    "and xur.roles = 'super_usuario'\n",
    "and xu.estadoUsuario = 1\n",
    "and xu.credencialesExpiradas = 0;\n",
    "\"\"\""
   ]
  },
  {
   "cell_type": "code",
   "execution_count": null,
   "id": "3c2e4737-55c0-424d-8f33-55103acb270b",
   "metadata": {},
   "outputs": [],
   "source": [
    "from gbcdk import GbconnectedDk\n",
    "gb = GbconnectedDk()\n",
    "\n",
    "gb.query_local(query)"
   ]
  },
  {
   "cell_type": "markdown",
   "id": "f96da587-43f3-496e-a8a3-23cd964e0d47",
   "metadata": {
    "tags": []
   },
   "source": [
    "## Ejecutar un query en la bbdd del historico\n",
    "\n",
    "Coloca tu query dentro de los parentesis de la siguiente celda\n",
    "\n",
    "**Ejemplo**\n",
    "```python\n",
    "query = \"\"\"\n",
    "SELECT *\n",
    "FROM dl_app_bitacora_paros dabp \n",
    "UNION\n",
    "SELECT *\n",
    "FROM dl_app_bitacora_paros_temporal dabpt \n",
    "ORDER BY fecha DESC\n",
    "LIMIT 50;\n",
    "\"\"\"\n",
    "```\n",
    "Asegurate de tener tres pares de \" entre tu query\n",
    "El resultado se guardara en el directorio llamado _\"Historico\"_"
   ]
  },
  {
   "cell_type": "code",
   "execution_count": null,
   "id": "3bb47b3a-8b85-4132-8b05-e9cccfa4852b",
   "metadata": {},
   "outputs": [],
   "source": [
    "query = \"\"\"\n",
    "SELECT *\n",
    "FROM dl_app_bitacora_paros dabp \n",
    "UNION\n",
    "SELECT *\n",
    "FROM dl_app_bitacora_paros_temporal dabpt \n",
    "ORDER BY fecha DESC\n",
    "LIMIT 50;\n",
    "\"\"\""
   ]
  },
  {
   "cell_type": "code",
   "execution_count": null,
   "id": "daba69a7-5e6c-4934-8b8a-329048a3d6b3",
   "metadata": {},
   "outputs": [],
   "source": [
    "from gbcdk import GbconnectedDk\n",
    "gb = GbconnectedDk()\n",
    "\n",
    "gb.query_rds(query)"
   ]
  },
  {
   "cell_type": "markdown",
   "id": "44ecaf42-71ff-4581-b0ea-512cacb279f0",
   "metadata": {
    "tags": []
   },
   "source": [
    "## Combinar archivos\n",
    "\n",
    "Te entrega en un solo archivo todo lo que este dentro del directorio indicado"
   ]
  },
  {
   "cell_type": "code",
   "execution_count": null,
   "id": "fc370d18-a1bb-467e-bef4-bc0be53ab0ab",
   "metadata": {},
   "outputs": [],
   "source": [
    "from gbcdk import GbconnectedDk\n",
    "gb = GbconnectedDk()\n",
    "\n",
    "gb.combinar_csv('Local')"
   ]
  },
  {
   "cell_type": "code",
   "execution_count": null,
   "id": "6a916308-c4ed-4f30-a10e-69747197af40",
   "metadata": {},
   "outputs": [],
   "source": [
    "from gbcdk import GbconnectedDk\n",
    "gb = GbconnectedDk()\n",
    "\n",
    "gb.combinar_csv('Historico')"
   ]
  },
  {
   "cell_type": "code",
   "execution_count": 1,
   "id": "4fc69ca1-8f90-48ed-81ae-475a35190e75",
   "metadata": {},
   "outputs": [
    {
     "data": {
      "application/vnd.jupyter.widget-view+json": {
       "model_id": "52e5a3ef563b43d895cff7ebed77fcc6",
       "version_major": 2,
       "version_minor": 0
      },
      "text/plain": [
       "Button(description='Haz click aquí', style=ButtonStyle())"
      ]
     },
     "metadata": {},
     "output_type": "display_data"
    },
    {
     "name": "stdout",
     "output_type": "stream",
     "text": [
      "0.14809698760432166\n",
      "0.8454003018241025\n",
      "0.34153754682045345\n",
      "0.7611257367897967\n",
      "0.8897734899462307\n",
      "0.6916868703592931\n",
      "0.2388552899411217\n",
      "0.2740026783269478\n"
     ]
    }
   ],
   "source": [
    "from IPython.display import display\n",
    "import ipywidgets as widgets\n",
    "\n",
    "# Crea un botón.\n",
    "boton = widgets.Button(description=\"Haz click aquí\")\n",
    "\n",
    "# Indica que cuando el botón sea presionado, se debe llamar a tu función.\n",
    "boton.on_click(funcion_de_ejemplo)\n",
    "\n",
    "# Muestra el botón.\n",
    "display(boton)"
   ]
  },
  {
   "cell_type": "code",
   "execution_count": null,
   "id": "b97026ff-c95b-4c4b-8d01-a0169a3a03e1",
   "metadata": {},
   "outputs": [],
   "source": []
  }
 ],
 "metadata": {
  "kernelspec": {
   "display_name": "Python 3 (ipykernel)",
   "language": "python",
   "name": "python3"
  },
  "language_info": {
   "codemirror_mode": {
    "name": "ipython",
    "version": 3
   },
   "file_extension": ".py",
   "mimetype": "text/x-python",
   "name": "python",
   "nbconvert_exporter": "python",
   "pygments_lexer": "ipython3",
   "version": "3.9.17"
  },
  "toc-autonumbering": false,
  "toc-showcode": false,
  "toc-showmarkdowntxt": false,
  "toc-showtags": false
 },
 "nbformat": 4,
 "nbformat_minor": 5
}
